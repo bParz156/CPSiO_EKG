{
 "cells": [
  {
   "cell_type": "markdown",
   "id": "f0f9dda4-4ce7-4aca-b3d8-cf1854c30747",
   "metadata": {},
   "source": [
    "<style></style>\n",
    "<h1>Cyfrowe przetwarzanie sygnałów i obrazów</h1>\n",
    "<h2>Przetwarzanie i analiza sygnału EKG</h2>\n",
    "<b>Autorki:</b> Barbara Parzonka 263955, Joanna Zoglowek 264452\n",
    "<br><br>\n",
    "<b>Ćwiczenie 10.</b>\n",
    "<br>\n",
    "Zbadaj działanie dolnoprzepustowych filtrów uśredniającego\n",
    "i gaussowskiego dla danych obrazów. Zaobserwuj wpływ rozmiaru masek na wynik filtracji.\n",
    "<br><b>Dane:</b> characters_test_pattern.tif, zoneplate.tif.\n",
    "<br><br>\n",
    "Program pozwala na porównanie oryginalnego obrazu, obrazu otrzymanego dzięki użyciu filtra uśredniającego i obrazu otrzymanego dzięki zastosowaniu filtra gaussowskiego. Porównywane filtry działają na maskach tej samej wielkości. Wielkość maski jest regulowana za pomocą suwaka."
   ]
  },
  {
   "cell_type": "code",
   "execution_count": 1,
   "id": "318cf529-0af7-4ca7-b77a-427aa69cabef",
   "metadata": {},
   "outputs": [
    {
     "data": {
      "application/vnd.jupyter.widget-view+json": {
       "model_id": "027471c49c8e4a548c636d7c798fbe22",
       "version_major": 2,
       "version_minor": 0
      },
      "text/plain": [
       "Dropdown(description='Obraz:', options=('characters_test_pattern', 'zoneplate'), value='characters_test_patter…"
      ]
     },
     "metadata": {},
     "output_type": "display_data"
    }
   ],
   "source": [
    "%run functions.ipynb\n",
    "from ipywidgets import interact\n",
    "import ipywidgets as widgets\n",
    "data_path='../data/'\n",
    "image_extension=\".tif\"\n",
    "images= [\"characters_test_pattern\", \"zoneplate\"]\n",
    "\n",
    "filename=widgets.Dropdown(\n",
    "    options=images,\n",
    "    value=images[0],\n",
    "    description='Obraz:',\n",
    "    disabled=False,\n",
    ")\n",
    "\n",
    "display(filename)"
   ]
  },
  {
   "cell_type": "code",
   "execution_count": 2,
   "id": "7a6b2c1c-034d-443b-99c7-3823b46347ab",
   "metadata": {},
   "outputs": [
    {
     "data": {
      "application/vnd.jupyter.widget-view+json": {
       "model_id": "8b62a81831bb4c6eb2d07dbd087ded91",
       "version_major": 2,
       "version_minor": 0
      },
      "text/plain": [
       "interactive(children=(Text(value='../data/characters_test_pattern.tif', description='image_path'), IntSlider(v…"
      ]
     },
     "metadata": {},
     "output_type": "display_data"
    },
    {
     "data": {
      "text/plain": [
       "<function __main__.porownanie_filtrow_gauss_liniowy(image_path, size)>"
      ]
     },
     "execution_count": 2,
     "metadata": {},
     "output_type": "execute_result"
    }
   ],
   "source": [
    "filepath=data_path+filename.value+image_extension\n",
    "sigma_slider = widgets.IntSlider(value=3, min=3, max=21, step=2, description=\"Parametr filtra Gaussa\")\n",
    "interact(porownanie_filtrow_gauss_liniowy, image_path=filepath, size=sigma_slider)"
   ]
  },
  {
   "cell_type": "markdown",
   "id": "2828704e-7419-4b3c-8b61-4487d6f1ac38",
   "metadata": {},
   "source": [
    "<b>Wnioski:</b> fitr gaussowski powoduje większe rozmycie niż filtr uśredniający, jednak w odróżnieniu od filtra uśredniającego, filtr Gaussa nie powoduje powstawania czarnej krawędzi."
   ]
  },
  {
   "cell_type": "code",
   "execution_count": null,
   "id": "a8affa0f-c2ce-4597-9034-f170b0d39fd2",
   "metadata": {},
   "outputs": [],
   "source": []
  }
 ],
 "metadata": {
  "kernelspec": {
   "display_name": "Python 3 (ipykernel)",
   "language": "python",
   "name": "python3"
  },
  "language_info": {
   "codemirror_mode": {
    "name": "ipython",
    "version": 3
   },
   "file_extension": ".py",
   "mimetype": "text/x-python",
   "name": "python",
   "nbconvert_exporter": "python",
   "pygments_lexer": "ipython3",
   "version": "3.12.3"
  }
 },
 "nbformat": 4,
 "nbformat_minor": 5
}
