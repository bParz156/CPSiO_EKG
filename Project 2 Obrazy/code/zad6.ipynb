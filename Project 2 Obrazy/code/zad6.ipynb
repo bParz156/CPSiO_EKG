{
 "cells": [
  {
   "cell_type": "markdown",
   "id": "99d195c7-30e2-4256-b5ed-755a2be6d239",
   "metadata": {},
   "source": [
    "<style></style>\n",
    "<h1>Cyfrowe przetwarzanie sygnałów i obrazów</h1>\n",
    "<h2>Przetwarzanie i analiza sygnału EKG</h2>\n",
    "<b>Autorki:</b> Barbara Parzonka 263955, Joanna Zoglowek 264452\n",
    "<br><br>\n",
    "<b>Ćwiczenie 6.</b>\n",
    "\n",
    "Zaobserwuj działanie następujących przekształceń punktowych na\n",
    "przykładowych obrazach: <br>\n",
    "a) Mnożenie obrazu przez stałą T(r) = c · r, gdzie c jest stałą. <br>\n",
    "Obrazy: chest_xray.tif, pollen-dark.tif, spectrum.tif.<br>\n",
    "b) Transformację logarytmiczną <br>\n",
    "T(r) = c · log (1 + r).<br>\n",
    "Obraz: spectrum.tif.<br>\n",
    "c) Zmianę dynamiki skali szarości (kontrastu). Możesz zastosować transformację o postaci T(r) = 1/(1 + (m/r)^e)\n",
    ", gdzie m i e są ustalonymi parametrami przekształcenia (np. m = 0,45, e = 8).\n",
    "Wykreśl T(r), by lepiej uwidocznić wpływ T na kontrast obrazu wyjściowego.\n",
    "Przeprowadź eksperymenty z różnymi wartościami parametrów m i e. <br>\n",
    "Obrazy: chest_xray.tif, einstein-low-contrast.tif,\n",
    "pollen-lowcontrast.tif. <br>\n",
    "d) Korekcję gamma, zdefiniowaną jako s = c · r^γ\n",
    ", gdzie c > 0 i γ > 0 są stałymi\n",
    "we wzorze przekształcenia.<br>\n",
    "Obraz: aerial_view.tif\n",
    "\n",
    "\n",
    "<br>\n",
    "Aby pokazać działanie systemu należy: Kliknąć Run->Run All Cells\n",
    "<br>\n",
    "Dla każdego obrazu i każdej metody znajduje się osobny slider, któy umożliwia dostosowanie stałej i eksperymentalne przetestowanie wartości. Domyślne wartości, z którymi się uruchamia program zostały ustawione metodą eksperymentalną przez nas w oparciu o materiały z wykładu"
   ]
  },
  {
   "cell_type": "code",
   "execution_count": 19,
   "id": "d8a70d7b-b322-45df-8a0c-0ac843fc86a2",
   "metadata": {},
   "outputs": [],
   "source": [
    "%run functions.ipynb\n",
    "data_path='../data/'\n",
    "image_extension=\".tif\"\n",
    "from ipywidgets import interact\n",
    "import ipywidgets as widgets\n",
    "\n",
    "constanceC1 = widgets.IntSlider(\n",
    "    value=10,\n",
    "    min=1,\n",
    "    max=20,\n",
    "    step=1,\n",
    "    description='Stała do mnożenia:',\n",
    "    disabled=False,\n",
    "    continuous_update=False,\n",
    "    orientation='horizontal',\n",
    "    readout=True,\n",
    "    readout_format='d'\n",
    ")\n",
    "constanceC2 = widgets.IntSlider(\n",
    "    value=10,\n",
    "    min=1,\n",
    "    max=20,\n",
    "    step=1,\n",
    "    description='Stała do mnożenia:',\n",
    "    disabled=False,\n",
    "    continuous_update=False,\n",
    "    orientation='horizontal',\n",
    "    readout=True,\n",
    "    readout_format='d'\n",
    ")\n",
    "constanceC3 = widgets.IntSlider(\n",
    "    value=7,\n",
    "    min=1,\n",
    "    max=20,\n",
    "    step=1,\n",
    "    description='Stała do mnożenia:',\n",
    "    disabled=False,\n",
    "    continuous_update=False,\n",
    "    orientation='horizontal',\n",
    "    readout=True,\n",
    "    readout_format='d'\n",
    ")\n",
    "\n",
    "constanceL = widgets.IntSlider(\n",
    "    value=10,\n",
    "    min=1,\n",
    "    max=20,\n",
    "    step=1,\n",
    "    description='Stała przekształceń logarytmicznych:',\n",
    "    disabled=False,\n",
    "    continuous_update=False,\n",
    "    orientation='horizontal',\n",
    "    readout=True,\n",
    "    readout_format='d'\n",
    ")\n",
    "\n",
    "constanceE = widgets.IntSlider(\n",
    "    value=8,\n",
    "    min=0,\n",
    "    max=20,\n",
    "    step=1,\n",
    "    description='Stała e:',\n",
    "    disabled=False,\n",
    "    continuous_update=False,\n",
    "    orientation='horizontal',\n",
    "    readout=True,\n",
    "    readout_format='d'\n",
    ")\n",
    "\n",
    "constanceM = widgets.FloatSlider(\n",
    "    value=0.45,\n",
    "    min=0,\n",
    "    max=2.5,\n",
    "    step=0.05,\n",
    "    description='Stała M:',\n",
    ")\n",
    "constanceE1 = widgets.IntSlider(\n",
    "    value=8,\n",
    "    min=0,\n",
    "    max=20,\n",
    "    step=1,\n",
    "    description='Stała e:',\n",
    "    disabled=False,\n",
    "    continuous_update=False,\n",
    "    orientation='horizontal',\n",
    "    readout=True,\n",
    "    readout_format='d'\n",
    ")\n",
    "\n",
    "constanceM1 = widgets.FloatSlider(\n",
    "    value=0.45,\n",
    "    min=0,\n",
    "    max=2.5,\n",
    "    step=0.05,\n",
    "    description='Stała M:',\n",
    ")\n",
    "constanceE2 = widgets.IntSlider(\n",
    "    value=4,\n",
    "    min=0,\n",
    "    max=20,\n",
    "    step=1,\n",
    "    description='Stała e:',\n",
    "    disabled=False,\n",
    "    continuous_update=False,\n",
    "    orientation='horizontal',\n",
    "    readout=True,\n",
    "    readout_format='d'\n",
    ")\n",
    "\n",
    "constanceM2 = widgets.FloatSlider(\n",
    "    value=0.45,\n",
    "    min=0,\n",
    "    max=2.5,\n",
    "    step=0.05,\n",
    "    description='Stała M:',\n",
    ")\n",
    "\n",
    "constanceCg=widgets.IntSlider(\n",
    "    value=11,\n",
    "    min=1,\n",
    "    max=20,\n",
    "    step=1,\n",
    "    description='Stała do mnożenia:',\n",
    "    disabled=False,\n",
    "    continuous_update=False,\n",
    "    orientation='horizontal',\n",
    "    readout=True,\n",
    "    readout_format='d'\n",
    ")\n",
    "\n",
    "constanceG=widgets.IntSlider(\n",
    "    value=8,\n",
    "    min=0,\n",
    "    max=10,\n",
    "    step=1,\n",
    "    description='Stała gamma:',\n",
    "    disabled=False,\n",
    "    continuous_update=False,\n",
    "    orientation='horizontal',\n",
    "    readout=True,\n",
    "    readout_format='d'\n",
    ")"
   ]
  },
  {
   "cell_type": "markdown",
   "id": "1dcc8d47-a6ed-47a0-9bd8-9d453fd69247",
   "metadata": {},
   "source": [
    "<b>Transformacja punktowa - mnożenie przez stałą</b>\n",
    "<br>\n",
    "Mnożenie przez stałą zwiększa kontrast. Wszytskie jasne punkty zbiegają do bieli, a ciemne do czerni"
   ]
  },
  {
   "cell_type": "code",
   "execution_count": 20,
   "id": "cb34055d-6f9a-4db0-b439-0ec1c5b10f33",
   "metadata": {},
   "outputs": [
    {
     "data": {
      "application/vnd.jupyter.widget-view+json": {
       "model_id": "14c8a49edd7644a58f9ddf1c2eca0dff",
       "version_major": 2,
       "version_minor": 0
      },
      "text/plain": [
       "interactive(children=(Text(value='../data/chest-xray.tif', description='image_path'), IntSlider(value=10, cont…"
      ]
     },
     "metadata": {},
     "output_type": "display_data"
    },
    {
     "data": {
      "text/plain": [
       "<function __main__.multiplication(image_path, c)>"
      ]
     },
     "execution_count": 20,
     "metadata": {},
     "output_type": "execute_result"
    }
   ],
   "source": [
    "image_path=data_path+\"chest-xray\"+image_extension\n",
    "interact(multiplication, image_path=image_path, c=constanceC1)"
   ]
  },
  {
   "cell_type": "code",
   "execution_count": 21,
   "id": "55970013-c801-4d24-9dca-5d6564ee5554",
   "metadata": {},
   "outputs": [
    {
     "data": {
      "application/vnd.jupyter.widget-view+json": {
       "model_id": "be65b993a9f341d3a053e10ee85db9e2",
       "version_major": 2,
       "version_minor": 0
      },
      "text/plain": [
       "interactive(children=(Text(value='../data/pollen-dark.tif', description='image_path'), IntSlider(value=10, con…"
      ]
     },
     "metadata": {},
     "output_type": "display_data"
    },
    {
     "data": {
      "text/plain": [
       "<function __main__.multiplication(image_path, c)>"
      ]
     },
     "execution_count": 21,
     "metadata": {},
     "output_type": "execute_result"
    }
   ],
   "source": [
    "image_path=data_path+\"pollen-dark\"+image_extension\n",
    "interact(multiplication, image_path=image_path, c=constanceC2)"
   ]
  },
  {
   "cell_type": "code",
   "execution_count": 22,
   "id": "8010f902-c14f-449e-a22c-3f47902b3abb",
   "metadata": {},
   "outputs": [
    {
     "data": {
      "application/vnd.jupyter.widget-view+json": {
       "model_id": "bbfad69d04f04a5bb7d632d5ed9c1ab9",
       "version_major": 2,
       "version_minor": 0
      },
      "text/plain": [
       "interactive(children=(Text(value='../data/spectrum.tif', description='image_path'), IntSlider(value=7, continu…"
      ]
     },
     "metadata": {},
     "output_type": "display_data"
    },
    {
     "data": {
      "text/plain": [
       "<function __main__.multiplication(image_path, c)>"
      ]
     },
     "execution_count": 22,
     "metadata": {},
     "output_type": "execute_result"
    }
   ],
   "source": [
    "image_path=data_path+\"spectrum\"+image_extension\n",
    "interact(multiplication, image_path=image_path, c=constanceC3)"
   ]
  },
  {
   "cell_type": "markdown",
   "id": "c606cb42-1bff-4384-91c4-9771a2261c81",
   "metadata": {},
   "source": [
    "<b>Transformatcja logarytmiczna</b> <br>\n",
    "Pozwala na wykrycie niewidocznych do tej pory szczegółów."
   ]
  },
  {
   "cell_type": "code",
   "execution_count": 23,
   "id": "b0a83d68-a7c7-46ec-8223-5a592fefd260",
   "metadata": {},
   "outputs": [
    {
     "data": {
      "application/vnd.jupyter.widget-view+json": {
       "model_id": "874d4052f6f54949a941818a9a2a13b0",
       "version_major": 2,
       "version_minor": 0
      },
      "text/plain": [
       "interactive(children=(Text(value='../data/spectrum.tif', description='image_path'), IntSlider(value=10, contin…"
      ]
     },
     "metadata": {},
     "output_type": "display_data"
    },
    {
     "data": {
      "text/plain": [
       "<function __main__.logarithmical(image_path, c=1)>"
      ]
     },
     "execution_count": 23,
     "metadata": {},
     "output_type": "execute_result"
    }
   ],
   "source": [
    "interact(logarithmical, image_path=image_path, c=constanceL)"
   ]
  },
  {
   "cell_type": "markdown",
   "id": "a1e2447b-1df4-4803-8739-80cc0016b05c",
   "metadata": {},
   "source": [
    "<b>Transformatcja kontrastu</b> <br>\n",
    "Pozwala na wykrycie niewidocznych do tej pory szczegółów."
   ]
  },
  {
   "cell_type": "code",
   "execution_count": 24,
   "id": "8206eb16-4126-4063-8641-25bdb8bc0935",
   "metadata": {},
   "outputs": [
    {
     "data": {
      "application/vnd.jupyter.widget-view+json": {
       "model_id": "233bb5b0069146f88266151efbc5d991",
       "version_major": 2,
       "version_minor": 0
      },
      "text/plain": [
       "interactive(children=(Text(value='../data/chest-xray.tif', description='image_path'), FloatSlider(value=0.45, …"
      ]
     },
     "metadata": {},
     "output_type": "display_data"
    },
    {
     "data": {
      "text/plain": [
       "<function __main__.change_contrast(image_path, m=0.45, e=8)>"
      ]
     },
     "execution_count": 24,
     "metadata": {},
     "output_type": "execute_result"
    }
   ],
   "source": [
    "image_path=data_path+\"chest-xray\"+image_extension\n",
    "interact(change_contrast,image_path=image_path, m=constanceM, e=constanceE)"
   ]
  },
  {
   "cell_type": "code",
   "execution_count": 25,
   "id": "67f44442-ae5b-47f4-9639-8e4bf78d23b7",
   "metadata": {},
   "outputs": [
    {
     "data": {
      "application/vnd.jupyter.widget-view+json": {
       "model_id": "a026b81973a4433c86f032525db10859",
       "version_major": 2,
       "version_minor": 0
      },
      "text/plain": [
       "interactive(children=(Text(value='../data/einstein-low-contrast.tif', description='image_path'), FloatSlider(v…"
      ]
     },
     "metadata": {},
     "output_type": "display_data"
    },
    {
     "data": {
      "text/plain": [
       "<function __main__.change_contrast(image_path, m=0.45, e=8)>"
      ]
     },
     "execution_count": 25,
     "metadata": {},
     "output_type": "execute_result"
    }
   ],
   "source": [
    "image_path=data_path+\"einstein-low-contrast\"+image_extension\n",
    "interact(change_contrast,image_path=image_path, m=constanceM1, e=constanceE1)"
   ]
  },
  {
   "cell_type": "code",
   "execution_count": 26,
   "id": "499a2ce5-5f91-4393-9d95-d0cd22bf49cc",
   "metadata": {},
   "outputs": [
    {
     "data": {
      "application/vnd.jupyter.widget-view+json": {
       "model_id": "f379725ad66d411b8d2824b8891e0034",
       "version_major": 2,
       "version_minor": 0
      },
      "text/plain": [
       "interactive(children=(Text(value='../data/pollen-lowcontrast.tif', description='image_path'), FloatSlider(valu…"
      ]
     },
     "metadata": {},
     "output_type": "display_data"
    },
    {
     "data": {
      "text/plain": [
       "<function __main__.change_contrast(image_path, m=0.45, e=8)>"
      ]
     },
     "execution_count": 26,
     "metadata": {},
     "output_type": "execute_result"
    }
   ],
   "source": [
    "image_path=data_path+\"pollen-lowcontrast\"+image_extension\n",
    "interact(change_contrast,image_path=image_path, m=constanceM2, e=constanceE2)"
   ]
  },
  {
   "cell_type": "markdown",
   "id": "824295fb-9c48-48bd-bc18-e9d9d67d0d4d",
   "metadata": {},
   "source": [
    "<b>Transformatcja gamma</b> <br>\n",
    "Pozwala na zwiększenie kontrastu przy jednoczesnym uwypukleniu szczegółów."
   ]
  },
  {
   "cell_type": "code",
   "execution_count": 27,
   "id": "8372f9e8-b8fb-40ba-8a73-bb41b26f25e3",
   "metadata": {},
   "outputs": [
    {
     "data": {
      "application/vnd.jupyter.widget-view+json": {
       "model_id": "312d535f432b435bb7c2239d3c1f9f6f",
       "version_major": 2,
       "version_minor": 0
      },
      "text/plain": [
       "interactive(children=(Text(value='../data/aerial_view.tif', description='image_path'), IntSlider(value=11, con…"
      ]
     },
     "metadata": {},
     "output_type": "display_data"
    },
    {
     "data": {
      "text/plain": [
       "<function __main__.gamma_corection(image_path, c, gamma)>"
      ]
     },
     "execution_count": 27,
     "metadata": {},
     "output_type": "execute_result"
    }
   ],
   "source": [
    "image_path=data_path+\"aerial_view\"+image_extension\n",
    "interact(gamma_corection,image_path=image_path, c=constanceCg, gamma=constanceG)"
   ]
  },
  {
   "cell_type": "code",
   "execution_count": null,
   "id": "66291620-00e2-4c73-bcab-771f6467a4f1",
   "metadata": {},
   "outputs": [],
   "source": []
  }
 ],
 "metadata": {
  "kernelspec": {
   "display_name": "Python 3 (ipykernel)",
   "language": "python",
   "name": "python3"
  },
  "language_info": {
   "codemirror_mode": {
    "name": "ipython",
    "version": 3
   },
   "file_extension": ".py",
   "mimetype": "text/x-python",
   "name": "python",
   "nbconvert_exporter": "python",
   "pygments_lexer": "ipython3",
   "version": "3.12.3"
  }
 },
 "nbformat": 4,
 "nbformat_minor": 5
}
