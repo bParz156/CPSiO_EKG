{
 "cells": [
  {
   "cell_type": "code",
   "execution_count": 28,
   "id": "d8a70d7b-b322-45df-8a0c-0ac843fc86a2",
   "metadata": {},
   "outputs": [],
   "source": [
    "%run functions.ipynb\n",
    "data_path='../data/'\n",
    "from ipywidgets import interact\n",
    "import ipywidgets as widgets\n",
    "\n",
    "constanceC1 = widgets.IntSlider(\n",
    "    value=10,\n",
    "    min=1,\n",
    "    max=20,\n",
    "    step=1,\n",
    "    description='Stała do mnożenia:',\n",
    "    disabled=False,\n",
    "    continuous_update=False,\n",
    "    orientation='horizontal',\n",
    "    readout=True,\n",
    "    readout_format='d'\n",
    ")\n",
    "constanceC2 = widgets.IntSlider(\n",
    "    value=10,\n",
    "    min=1,\n",
    "    max=20,\n",
    "    step=1,\n",
    "    description='Stała do mnożenia:',\n",
    "    disabled=False,\n",
    "    continuous_update=False,\n",
    "    orientation='horizontal',\n",
    "    readout=True,\n",
    "    readout_format='d'\n",
    ")\n",
    "constanceC3 = widgets.IntSlider(\n",
    "    value=7,\n",
    "    min=1,\n",
    "    max=20,\n",
    "    step=1,\n",
    "    description='Stała do mnożenia:',\n",
    "    disabled=False,\n",
    "    continuous_update=False,\n",
    "    orientation='horizontal',\n",
    "    readout=True,\n",
    "    readout_format='d'\n",
    ")\n",
    "\n",
    "constanceL = widgets.IntSlider(\n",
    "    value=10,\n",
    "    min=1,\n",
    "    max=20,\n",
    "    step=1,\n",
    "    description='Stała przekształceń logarytmicznych:',\n",
    "    disabled=False,\n",
    "    continuous_update=False,\n",
    "    orientation='horizontal',\n",
    "    readout=True,\n",
    "    readout_format='d'\n",
    ")\n",
    "\n",
    "constanceE = widgets.IntSlider(\n",
    "    value=8,\n",
    "    min=0,\n",
    "    max=20,\n",
    "    step=1,\n",
    "    description='Stała e:',\n",
    "    disabled=False,\n",
    "    continuous_update=False,\n",
    "    orientation='horizontal',\n",
    "    readout=True,\n",
    "    readout_format='d'\n",
    ")\n",
    "\n",
    "constanceM = widgets.FloatSlider(\n",
    "    value=0.45,\n",
    "    min=0,\n",
    "    max=2.5,\n",
    "    step=0.05,\n",
    "    description='Stała M:',\n",
    ")\n",
    "constanceE1 = widgets.IntSlider(\n",
    "    value=8,\n",
    "    min=0,\n",
    "    max=20,\n",
    "    step=1,\n",
    "    description='Stała e:',\n",
    "    disabled=False,\n",
    "    continuous_update=False,\n",
    "    orientation='horizontal',\n",
    "    readout=True,\n",
    "    readout_format='d'\n",
    ")\n",
    "\n",
    "constanceM1 = widgets.FloatSlider(\n",
    "    value=0.45,\n",
    "    min=0,\n",
    "    max=2.5,\n",
    "    step=0.05,\n",
    "    description='Stała M:',\n",
    ")\n",
    "constanceE2 = widgets.IntSlider(\n",
    "    value=4,\n",
    "    min=0,\n",
    "    max=20,\n",
    "    step=1,\n",
    "    description='Stała e:',\n",
    "    disabled=False,\n",
    "    continuous_update=False,\n",
    "    orientation='horizontal',\n",
    "    readout=True,\n",
    "    readout_format='d'\n",
    ")\n",
    "\n",
    "constanceM2 = widgets.FloatSlider(\n",
    "    value=0.45,\n",
    "    min=0,\n",
    "    max=2.5,\n",
    "    step=0.05,\n",
    "    description='Stała M:',\n",
    ")\n",
    "\n",
    "constanceCg=widgets.IntSlider(\n",
    "    value=11,\n",
    "    min=1,\n",
    "    max=20,\n",
    "    step=1,\n",
    "    description='Stała do mnożenia:',\n",
    "    disabled=False,\n",
    "    continuous_update=False,\n",
    "    orientation='horizontal',\n",
    "    readout=True,\n",
    "    readout_format='d'\n",
    ")\n",
    "\n",
    "constanceG=widgets.IntSlider(\n",
    "    value=8,\n",
    "    min=0,\n",
    "    max=10,\n",
    "    step=1,\n",
    "    description='Stała gamma:',\n",
    "    disabled=False,\n",
    "    continuous_update=False,\n",
    "    orientation='horizontal',\n",
    "    readout=True,\n",
    "    readout_format='d'\n",
    ")"
   ]
  },
  {
   "cell_type": "markdown",
   "id": "1dcc8d47-a6ed-47a0-9bd8-9d453fd69247",
   "metadata": {},
   "source": [
    "Transformacja punktowa - mnożenie przez stałą"
   ]
  },
  {
   "cell_type": "code",
   "execution_count": 7,
   "id": "cb34055d-6f9a-4db0-b439-0ec1c5b10f33",
   "metadata": {},
   "outputs": [
    {
     "data": {
      "application/vnd.jupyter.widget-view+json": {
       "model_id": "53d4e713a6644cb485e51d07341a6a7e",
       "version_major": 2,
       "version_minor": 0
      },
      "text/plain": [
       "interactive(children=(Text(value='../data/chest-xray.png', description='image_path'), IntSlider(value=10, cont…"
      ]
     },
     "metadata": {},
     "output_type": "display_data"
    },
    {
     "data": {
      "text/plain": [
       "<function __main__.multiplication(image_path, c)>"
      ]
     },
     "execution_count": 7,
     "metadata": {},
     "output_type": "execute_result"
    }
   ],
   "source": [
    "image_path=data_path+\"chest-xray.png\"\n",
    "interact(multiplication, image_path=image_path, c=constanceC1)"
   ]
  },
  {
   "cell_type": "code",
   "execution_count": 29,
   "id": "55970013-c801-4d24-9dca-5d6564ee5554",
   "metadata": {},
   "outputs": [
    {
     "data": {
      "application/vnd.jupyter.widget-view+json": {
       "model_id": "8f41fd4a63a64de188236782552cd1ac",
       "version_major": 2,
       "version_minor": 0
      },
      "text/plain": [
       "interactive(children=(Text(value='../data/pollen-dark.png', description='image_path'), IntSlider(value=10, con…"
      ]
     },
     "metadata": {},
     "output_type": "display_data"
    },
    {
     "data": {
      "text/plain": [
       "<function __main__.multiplication(image_path, c)>"
      ]
     },
     "execution_count": 29,
     "metadata": {},
     "output_type": "execute_result"
    }
   ],
   "source": [
    "image_path=data_path+\"pollen-dark.png\"\n",
    "interact(multiplication, image_path=image_path, c=constanceC2)"
   ]
  },
  {
   "cell_type": "code",
   "execution_count": 9,
   "id": "8010f902-c14f-449e-a22c-3f47902b3abb",
   "metadata": {},
   "outputs": [
    {
     "data": {
      "application/vnd.jupyter.widget-view+json": {
       "model_id": "fe6267518226441bb51306fdac7221a9",
       "version_major": 2,
       "version_minor": 0
      },
      "text/plain": [
       "interactive(children=(Text(value='../data/spectrum.png', description='image_path'), IntSlider(value=10, contin…"
      ]
     },
     "metadata": {},
     "output_type": "display_data"
    },
    {
     "data": {
      "application/vnd.jupyter.widget-view+json": {
       "model_id": "8249fd69c2684b11bc543f7835c773f4",
       "version_major": 2,
       "version_minor": 0
      },
      "text/plain": [
       "interactive(children=(Text(value='../data/spectrum.png', description='image_path'), IntSlider(value=10, contin…"
      ]
     },
     "metadata": {},
     "output_type": "display_data"
    },
    {
     "data": {
      "text/plain": [
       "<function __main__.logarithmical(image_path, c=1)>"
      ]
     },
     "execution_count": 9,
     "metadata": {},
     "output_type": "execute_result"
    }
   ],
   "source": [
    "image_path=data_path+\"spectrum.png\"\n",
    "interact(multiplication, image_path=image_path, c=constanceC3)\n",
    "interact(logarithmical, image_path=image_path, c=constanceL)"
   ]
  },
  {
   "cell_type": "markdown",
   "id": "c606cb42-1bff-4384-91c4-9771a2261c81",
   "metadata": {},
   "source": [
    "Transformatcja logarytmiczna"
   ]
  },
  {
   "cell_type": "code",
   "execution_count": 20,
   "id": "8206eb16-4126-4063-8641-25bdb8bc0935",
   "metadata": {},
   "outputs": [
    {
     "data": {
      "application/vnd.jupyter.widget-view+json": {
       "model_id": "d2e0c0ec56a9424986340eec7e67408c",
       "version_major": 2,
       "version_minor": 0
      },
      "text/plain": [
       "interactive(children=(Text(value='../data/chest-xray.png', description='image_path'), FloatSlider(value=0.45, …"
      ]
     },
     "metadata": {},
     "output_type": "display_data"
    },
    {
     "data": {
      "text/plain": [
       "<function __main__.change_contrast(image_path, m=0.45, e=8)>"
      ]
     },
     "execution_count": 20,
     "metadata": {},
     "output_type": "execute_result"
    }
   ],
   "source": [
    "image_path=data_path+\"chest-xray.png\"\n",
    "interact(change_contrast,image_path=image_path, m=constanceM, e=constanceE)"
   ]
  },
  {
   "cell_type": "code",
   "execution_count": 21,
   "id": "67f44442-ae5b-47f4-9639-8e4bf78d23b7",
   "metadata": {},
   "outputs": [
    {
     "data": {
      "application/vnd.jupyter.widget-view+json": {
       "model_id": "d23f5ba621a14323bbf1b9715ba01964",
       "version_major": 2,
       "version_minor": 0
      },
      "text/plain": [
       "interactive(children=(Text(value='../data/einstein-low-contrast.png', description='image_path'), FloatSlider(v…"
      ]
     },
     "metadata": {},
     "output_type": "display_data"
    },
    {
     "data": {
      "text/plain": [
       "<function __main__.change_contrast(image_path, m=0.45, e=8)>"
      ]
     },
     "execution_count": 21,
     "metadata": {},
     "output_type": "execute_result"
    }
   ],
   "source": [
    "image_path=data_path+\"einstein-low-contrast.png\"\n",
    "interact(change_contrast,image_path=image_path, m=constanceM1, e=constanceE1)"
   ]
  },
  {
   "cell_type": "code",
   "execution_count": 22,
   "id": "499a2ce5-5f91-4393-9d95-d0cd22bf49cc",
   "metadata": {},
   "outputs": [
    {
     "data": {
      "application/vnd.jupyter.widget-view+json": {
       "model_id": "3e6b975b917c4bf0b3e515fa6c808ede",
       "version_major": 2,
       "version_minor": 0
      },
      "text/plain": [
       "interactive(children=(Text(value='../data/pollen-lowcontrast.png', description='image_path'), FloatSlider(valu…"
      ]
     },
     "metadata": {},
     "output_type": "display_data"
    },
    {
     "data": {
      "text/plain": [
       "<function __main__.change_contrast(image_path, m=0.45, e=8)>"
      ]
     },
     "execution_count": 22,
     "metadata": {},
     "output_type": "execute_result"
    }
   ],
   "source": [
    "image_path=data_path+\"pollen-lowcontrast.png\"\n",
    "interact(change_contrast,image_path=image_path, m=constanceM2, e=constanceE2)"
   ]
  },
  {
   "cell_type": "code",
   "execution_count": 27,
   "id": "8372f9e8-b8fb-40ba-8a73-bb41b26f25e3",
   "metadata": {},
   "outputs": [
    {
     "data": {
      "application/vnd.jupyter.widget-view+json": {
       "model_id": "746d1d8c57724f36b83dcc78f991c85f",
       "version_major": 2,
       "version_minor": 0
      },
      "text/plain": [
       "interactive(children=(Text(value='../data/aerial_view.png', description='image_path'), IntSlider(value=10, con…"
      ]
     },
     "metadata": {},
     "output_type": "display_data"
    },
    {
     "data": {
      "text/plain": [
       "<function __main__.gamma_corection(image_path, c, gamma)>"
      ]
     },
     "execution_count": 27,
     "metadata": {},
     "output_type": "execute_result"
    }
   ],
   "source": [
    "image_path=data_path+\"aerial_view.png\"\n",
    "interact(gamma_corection,image_path=image_path, c=constanceCg, gamma=constanceG)"
   ]
  },
  {
   "cell_type": "code",
   "execution_count": null,
   "id": "66291620-00e2-4c73-bcab-771f6467a4f1",
   "metadata": {},
   "outputs": [],
   "source": []
  }
 ],
 "metadata": {
  "kernelspec": {
   "display_name": "Python 3 (ipykernel)",
   "language": "python",
   "name": "python3"
  },
  "language_info": {
   "codemirror_mode": {
    "name": "ipython",
    "version": 3
   },
   "file_extension": ".py",
   "mimetype": "text/x-python",
   "name": "python",
   "nbconvert_exporter": "python",
   "pygments_lexer": "ipython3",
   "version": "3.12.3"
  }
 },
 "nbformat": 4,
 "nbformat_minor": 5
}
