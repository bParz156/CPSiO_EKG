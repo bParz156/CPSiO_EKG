{
 "cells": [
  {
   "cell_type": "code",
   "execution_count": 12,
   "id": "171fc41a-5b17-4f67-b1ca-31ce41244ea4",
   "metadata": {},
   "outputs": [
    {
     "data": {
      "application/vnd.jupyter.widget-view+json": {
       "model_id": "299c2907f056452f8cad245d25143cd0",
       "version_major": 2,
       "version_minor": 0
      },
      "text/plain": [
       "interactive(children=(Text(value='../data/cboard_salt_pepper.png', description='image_path'), IntSlider(value=…"
      ]
     },
     "metadata": {},
     "output_type": "display_data"
    },
    {
     "data": {
      "text/plain": [
       "<function __main__.liniowy_filtr(image_path, k=3)>"
      ]
     },
     "execution_count": 12,
     "metadata": {},
     "output_type": "execute_result"
    }
   ],
   "source": [
    "%run functions.ipynb\n",
    "from ipywidgets import interact\n",
    "import ipywidgets as widgets\n",
    "data_path='../data/'\n",
    "\n",
    "file=\"cboard_salt_pepper.png\"\n",
    "image_path = data_path+file\n",
    "size_slider = widgets.IntSlider(\n",
    "    value=3,\n",
    "    min=3,\n",
    "    max=21,\n",
    "    step=2,\n",
    "    description='Wielkosc maski:',\n",
    "    disabled=False,\n",
    "    continuous_update=False,\n",
    "    orientation='horizontal',\n",
    "    readout=True,\n",
    "    readout_format='d',\n",
    ")\n",
    "interact(liniowy_filtr,image_path=image_path, k=size_slider)"
   ]
  },
  {
   "cell_type": "code",
   "execution_count": 13,
   "id": "7d052d58-7cbe-4bbe-bcdc-0f8296c35bf6",
   "metadata": {},
   "outputs": [
    {
     "data": {
      "application/vnd.jupyter.widget-view+json": {
       "model_id": "1f6fc75913634e8aa667e9d832729177",
       "version_major": 2,
       "version_minor": 0
      },
      "text/plain": [
       "interactive(children=(Text(value='../data/cboard_salt_pepper.png', description='image_path'), IntSlider(value=…"
      ]
     },
     "metadata": {},
     "output_type": "display_data"
    },
    {
     "data": {
      "text/plain": [
       "<function __main__.filtr_medianowy(image_path, k=3)>"
      ]
     },
     "execution_count": 13,
     "metadata": {},
     "output_type": "execute_result"
    }
   ],
   "source": [
    "median_size_slider = widgets.IntSlider(\n",
    "    value=3,\n",
    "    min=3,\n",
    "    max=21,\n",
    "    step=2,\n",
    "    description='Wielkosc maski:',\n",
    "    disabled=False,\n",
    "    continuous_update=False,\n",
    "    orientation='horizontal',\n",
    "    readout=True,\n",
    "    readout_format='d',\n",
    ")\n",
    "interact(filtr_medianowy,image_path=image_path, k=median_size_slider)"
   ]
  },
  {
   "cell_type": "code",
   "execution_count": 14,
   "id": "94a971b8-abda-4330-b6b1-5ee9316e0e8b",
   "metadata": {},
   "outputs": [
    {
     "data": {
      "application/vnd.jupyter.widget-view+json": {
       "model_id": "81c7a20083334c1f996a130bf0b5489d",
       "version_major": 2,
       "version_minor": 0
      },
      "text/plain": [
       "interactive(children=(Text(value='../data/cboard_salt_pepper.png', description='image_path'), IntSlider(value=…"
      ]
     },
     "metadata": {},
     "output_type": "display_data"
    },
    {
     "data": {
      "text/plain": [
       "<function __main__.filtr_maksimum(image_path, k=3)>"
      ]
     },
     "execution_count": 14,
     "metadata": {},
     "output_type": "execute_result"
    }
   ],
   "source": [
    "max_size_slider = widgets.IntSlider(\n",
    "    value=3,\n",
    "    min=3,\n",
    "    max=21,\n",
    "    step=2,\n",
    "    description='Wielkosc maski:',\n",
    "    disabled=False,\n",
    "    continuous_update=False,\n",
    "    orientation='horizontal',\n",
    "    readout=True,\n",
    "    readout_format='d',\n",
    ")\n",
    "interact(filtr_maksimum,image_path=image_path, k=max_size_slider)"
   ]
  },
  {
   "cell_type": "code",
   "execution_count": 15,
   "id": "dbc84367-9692-4854-a918-a3aac0529e8a",
   "metadata": {},
   "outputs": [
    {
     "data": {
      "application/vnd.jupyter.widget-view+json": {
       "model_id": "76781670d44b4ad8b5f37a8dedafa55e",
       "version_major": 2,
       "version_minor": 0
      },
      "text/plain": [
       "interactive(children=(Text(value='../data/cboard_salt_pepper.png', description='image_path'), IntSlider(value=…"
      ]
     },
     "metadata": {},
     "output_type": "display_data"
    },
    {
     "data": {
      "text/plain": [
       "<function __main__.filtr_minimum(image_path, k=3)>"
      ]
     },
     "execution_count": 15,
     "metadata": {},
     "output_type": "execute_result"
    }
   ],
   "source": [
    "min_size_slider = widgets.IntSlider(\n",
    "    value=3,\n",
    "    min=3,\n",
    "    max=21,\n",
    "    step=2,\n",
    "    description='Wielkosc maski:',\n",
    "    disabled=False,\n",
    "    continuous_update=False,\n",
    "    orientation='horizontal',\n",
    "    readout=True,\n",
    "    readout_format='d',\n",
    ")\n",
    "interact(filtr_minimum,image_path=image_path, k=min_size_slider)"
   ]
  },
  {
   "cell_type": "code",
   "execution_count": null,
   "id": "894b8ecc-4002-4e1d-92bb-1ed02f1ecc17",
   "metadata": {},
   "outputs": [],
   "source": []
  }
 ],
 "metadata": {
  "kernelspec": {
   "display_name": "Python 3 (ipykernel)",
   "language": "python",
   "name": "python3"
  },
  "language_info": {
   "codemirror_mode": {
    "name": "ipython",
    "version": 3
   },
   "file_extension": ".py",
   "mimetype": "text/x-python",
   "name": "python",
   "nbconvert_exporter": "python",
   "pygments_lexer": "ipython3",
   "version": "3.12.3"
  }
 },
 "nbformat": 4,
 "nbformat_minor": 5
}
