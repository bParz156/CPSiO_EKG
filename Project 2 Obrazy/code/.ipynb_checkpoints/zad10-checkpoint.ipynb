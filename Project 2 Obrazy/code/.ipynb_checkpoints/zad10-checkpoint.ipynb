{
 "cells": [
  {
   "cell_type": "code",
   "execution_count": 1,
   "id": "318cf529-0af7-4ca7-b77a-427aa69cabef",
   "metadata": {},
   "outputs": [
    {
     "data": {
      "application/vnd.jupyter.widget-view+json": {
       "model_id": "a306eb608c654d4f8f8efedcb70ad196",
       "version_major": 2,
       "version_minor": 0
      },
      "text/plain": [
       "Dropdown(description='Obraz:', options=('characters_test_pattern.png', 'zoneplate.png'), value='characters_tes…"
      ]
     },
     "metadata": {},
     "output_type": "display_data"
    }
   ],
   "source": [
    "%run functions.ipynb\n",
    "from ipywidgets import interact\n",
    "import ipywidgets as widgets\n",
    "data_path='../data/'\n",
    "\n",
    "images= [\"characters_test_pattern.png\", \"zoneplate.tif\"]\n",
    "\n",
    "filename=widgets.Dropdown(\n",
    "    options=images,\n",
    "    value=images[0],\n",
    "    description='Obraz:',\n",
    "    disabled=False,\n",
    ")\n",
    "\n",
    "display(filename)"
   ]
  },
  {
   "cell_type": "code",
   "execution_count": 2,
   "id": "7a6b2c1c-034d-443b-99c7-3823b46347ab",
   "metadata": {},
   "outputs": [
    {
     "data": {
      "application/vnd.jupyter.widget-view+json": {
       "model_id": "a318d0c6d79e47fcabe045c52db1ff3f",
       "version_major": 2,
       "version_minor": 0
      },
      "text/plain": [
       "interactive(children=(Text(value='../data/zoneplate.png', description='image_path'), IntSlider(value=3, descri…"
      ]
     },
     "metadata": {},
     "output_type": "display_data"
    },
    {
     "data": {
      "text/plain": [
       "<function __main__.porownanie_filtrow_gauss_liniowy(image_path, size)>"
      ]
     },
     "execution_count": 2,
     "metadata": {},
     "output_type": "execute_result"
    }
   ],
   "source": [
    "filepath=data_path+filename.value\n",
    "sigma_slider = widgets.IntSlider(value=3, min=3, max=21, step=2, description=\"Parametr filtra Gaussa\")\n",
    "interact(porownanie_filtrow_gauss_liniowy, image_path=filepath, size=sigma_slider)"
   ]
  },
  {
   "cell_type": "code",
   "execution_count": null,
   "id": "e2aae1bb-b403-4727-b923-00fe849b93cd",
   "metadata": {},
   "outputs": [],
   "source": []
  }
 ],
 "metadata": {
  "kernelspec": {
   "display_name": "Python 3 (ipykernel)",
   "language": "python",
   "name": "python3"
  },
  "language_info": {
   "codemirror_mode": {
    "name": "ipython",
    "version": 3
   },
   "file_extension": ".py",
   "mimetype": "text/x-python",
   "name": "python",
   "nbconvert_exporter": "python",
   "pygments_lexer": "ipython3",
   "version": "3.12.3"
  }
 },
 "nbformat": 4,
 "nbformat_minor": 5
}
