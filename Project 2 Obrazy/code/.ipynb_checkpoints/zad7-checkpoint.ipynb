{
 "cells": [
  {
   "cell_type": "markdown",
   "id": "6c93b6c0-7d74-40a8-acb4-b276204ec813",
   "metadata": {},
   "source": [
    "<style></style>\n",
    "<h1>Cyfrowe przetwarzanie sygnałów i obrazów</h1>\n",
    "<h2>Przetwarzanie i analiza sygnału EKG</h2>\n",
    "<b>Autorki:</b> Barbara Parzonka 263955, Joanna Zoglowek 264452\n",
    "<br><br>\n",
    "<b>Ćwiczenie 7.</b>\n",
    "<br>\n",
    "Wypróbuj działanie wyrównywania histogramu na przykładowych\n",
    "obrazach. By zaobserwować skuteczność procedury, poddaj wyrównywaniu obrazy\n",
    "zbyt ciemne i zbyt jasne. Narysować histogramy obrazów przed i po wyrównaniu.<br>\n",
    "Obrazy: chest_xray.tif, pollen-dark.tif, pollen-ligt.tif,\n",
    "pollen-lowcontrast.tif, pout.tif, spectrum.tif.\n",
    "<br>\n",
    "Należy wywołać komórkę poniżej.\n",
    "<br>\n",
    "<b>Wnioski:</b>\n",
    "<br>\n",
    "Wyrównanie globalne histogramu jest dobrą metodą poprawienia jakości obrazu, w przypadku gdy obraz piksele nie mają wartości odstających, które źle wpływają na wskaźniki statystyczne."
   ]
  },
  {
   "cell_type": "code",
   "execution_count": 2,
   "id": "c22fd835-4b34-490e-867d-87899fd7265f",
   "metadata": {
    "scrolled": true
   },
   "outputs": [
    {
     "ename": "SyntaxError",
     "evalue": "cannot assign to expression (3254719176.py, line 8)",
     "output_type": "error",
     "traceback": [
      "\u001b[1;36m  Cell \u001b[1;32mIn[2], line 8\u001b[1;36m\u001b[0m\n\u001b[1;33m    image_path = data_path+file+image_extension=\".tif\"\u001b[0m\n\u001b[1;37m                 ^\u001b[0m\n\u001b[1;31mSyntaxError\u001b[0m\u001b[1;31m:\u001b[0m cannot assign to expression\n"
     ]
    }
   ],
   "source": [
    "%run functions.ipynb\n",
    "data_path='../data/'\n",
    "image_extension=\".tif\"\n",
    "files=[\"chest-xray\", \"pollen-dark\", \"pollen-ligt\", \"pollen-lowcontrast\", \"pout\", \"spectrum\"]\n",
    "\n",
    "for file in files:\n",
    "    print(file+image_extension)\n",
    "    image_path = data_path+file+image_extension\n",
    "    wyrownaj_histogram(image_path)\n"
   ]
  },
  {
   "cell_type": "code",
   "execution_count": null,
   "id": "a1343944-d67f-4f2f-ac65-cb7c4b1f9998",
   "metadata": {},
   "outputs": [],
   "source": []
  }
 ],
 "metadata": {
  "kernelspec": {
   "display_name": "Python 3 (ipykernel)",
   "language": "python",
   "name": "python3"
  },
  "language_info": {
   "codemirror_mode": {
    "name": "ipython",
    "version": 3
   },
   "file_extension": ".py",
   "mimetype": "text/x-python",
   "name": "python",
   "nbconvert_exporter": "python",
   "pygments_lexer": "ipython3",
   "version": "3.12.3"
  }
 },
 "nbformat": 4,
 "nbformat_minor": 5
}
