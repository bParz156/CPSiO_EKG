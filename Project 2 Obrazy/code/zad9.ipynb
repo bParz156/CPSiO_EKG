{
 "cells": [
  {
   "cell_type": "markdown",
   "id": "b0a84231-13b7-4f71-a0c3-f4c3a5d4794c",
   "metadata": {},
   "source": [
    "<style></style>\n",
    "<h1>Cyfrowe przetwarzanie sygnałów i obrazów</h1>\n",
    "<h2>Przetwarzanie i analiza sygnału EKG</h2>\n",
    "<b>Autorki:</b> Barbara Parzonka 263955, Joanna Zoglowek 264452\n",
    "<br><br>\n",
    "<b>Ćwiczenie 9.</b>\n",
    "<br>\n",
    "Zbadaj skuteczność redukcji szumu typu „sól i pieprz” za pomocą <br>\n",
    "a) liniowego filtra uśredniającego z kwadratową maską, rozpoczynając od maski\n",
    "rozmiaru 3 × 3. <br>\n",
    "b) nieliniowego filtra medianowego<br>\n",
    "c) filtrów minimum i maksimum.<br><br>\n",
    "<b>Dane:</b>cboard_pepper_only.tif, cboard_salt_only.tif,\n",
    "cboard_salt_pepper.tif<br><br>\n",
    "Wykonaj eksperymenty dla różnych rozmiarów masek i wyciągnij wnioski.\n",
    "<br><br>\n",
    "\n",
    "Dla każdego z wymienionych rodzajów filtrów stworzono suwak, który pozwala przeprowadzać eksperymenty z wielkością maski"
   ]
  },
  {
   "cell_type": "code",
   "execution_count": 1,
   "id": "171fc41a-5b17-4f67-b1ca-31ce41244ea4",
   "metadata": {},
   "outputs": [
    {
     "data": {
      "application/vnd.jupyter.widget-view+json": {
       "model_id": "f244c76550d54a71ba04733b72f2eca6",
       "version_major": 2,
       "version_minor": 0
      },
      "text/plain": [
       "Dropdown(description='Obraz:', options=('cboard_pepper_only', 'cboard_salt_only', 'cboard_salt_pepper'), value…"
      ]
     },
     "metadata": {},
     "output_type": "display_data"
    }
   ],
   "source": [
    "%run functions.ipynb\n",
    "from ipywidgets import interact\n",
    "import ipywidgets as widgets\n",
    "data_path='../data/'\n",
    "image_extension=\".tif\"\n",
    "images=[\"cboard_pepper_only\",\"cboard_salt_only\" ,\"cboard_salt_pepper\"]\n",
    "filename=widgets.Dropdown(\n",
    "    options=images,\n",
    "    value=images[0],\n",
    "    description='Obraz:',\n",
    "    disabled=False,\n",
    ")\n",
    "\n",
    "display(filename)"
   ]
  },
  {
   "cell_type": "code",
   "execution_count": 7,
   "id": "c70cdedd-8beb-4133-8fe0-6dd7c494a040",
   "metadata": {},
   "outputs": [],
   "source": [
    "image_path=data_path+filename.value+image_extension"
   ]
  },
  {
   "cell_type": "code",
   "execution_count": 8,
   "id": "53d4a246-3c4f-45ab-b312-5cfc1a34765f",
   "metadata": {},
   "outputs": [
    {
     "data": {
      "application/vnd.jupyter.widget-view+json": {
       "model_id": "6075b13c251a4524899953c88a5db7d6",
       "version_major": 2,
       "version_minor": 0
      },
      "text/plain": [
       "interactive(children=(Text(value='../data/cboard_salt_only.tif', description='image_path'), IntSlider(value=3,…"
      ]
     },
     "metadata": {},
     "output_type": "display_data"
    },
    {
     "data": {
      "text/plain": [
       "<function __main__.liniowy_filtr(image_path, k=3)>"
      ]
     },
     "execution_count": 8,
     "metadata": {},
     "output_type": "execute_result"
    }
   ],
   "source": [
    "size_slider = widgets.IntSlider(\n",
    "    value=3,\n",
    "    min=3,\n",
    "    max=21,\n",
    "    step=2,\n",
    "    description='Wielkosc maski:',\n",
    "    disabled=False,\n",
    "    continuous_update=False,\n",
    "    orientation='horizontal',\n",
    "    readout=True,\n",
    "    readout_format='d',\n",
    ")\n",
    "interact(liniowy_filtr,image_path=image_path, k=size_slider)"
   ]
  },
  {
   "cell_type": "code",
   "execution_count": 9,
   "id": "7d052d58-7cbe-4bbe-bcdc-0f8296c35bf6",
   "metadata": {},
   "outputs": [
    {
     "data": {
      "application/vnd.jupyter.widget-view+json": {
       "model_id": "31ae13415cd64e43ad43fdfc44dac8c5",
       "version_major": 2,
       "version_minor": 0
      },
      "text/plain": [
       "interactive(children=(Text(value='../data/cboard_salt_only.tif', description='image_path'), IntSlider(value=3,…"
      ]
     },
     "metadata": {},
     "output_type": "display_data"
    },
    {
     "data": {
      "text/plain": [
       "<function __main__.filtr_medianowy(image_path, k=3)>"
      ]
     },
     "execution_count": 9,
     "metadata": {},
     "output_type": "execute_result"
    }
   ],
   "source": [
    "median_size_slider = widgets.IntSlider(\n",
    "    value=3,\n",
    "    min=3,\n",
    "    max=21,\n",
    "    step=2,\n",
    "    description='Wielkosc maski:',\n",
    "    disabled=False,\n",
    "    continuous_update=False,\n",
    "    orientation='horizontal',\n",
    "    readout=True,\n",
    "    readout_format='d',\n",
    ")\n",
    "interact(filtr_medianowy,image_path=image_path, k=median_size_slider)"
   ]
  },
  {
   "cell_type": "code",
   "execution_count": 10,
   "id": "94a971b8-abda-4330-b6b1-5ee9316e0e8b",
   "metadata": {},
   "outputs": [
    {
     "data": {
      "application/vnd.jupyter.widget-view+json": {
       "model_id": "73b80eba817b4350b03b34f6f0d7c959",
       "version_major": 2,
       "version_minor": 0
      },
      "text/plain": [
       "interactive(children=(Text(value='../data/cboard_salt_only.tif', description='image_path'), IntSlider(value=3,…"
      ]
     },
     "metadata": {},
     "output_type": "display_data"
    },
    {
     "data": {
      "text/plain": [
       "<function __main__.filtr_maksimum(image_path, k=3)>"
      ]
     },
     "execution_count": 10,
     "metadata": {},
     "output_type": "execute_result"
    }
   ],
   "source": [
    "max_size_slider = widgets.IntSlider(\n",
    "    value=3,\n",
    "    min=3,\n",
    "    max=21,\n",
    "    step=2,\n",
    "    description='Wielkosc maski:',\n",
    "    disabled=False,\n",
    "    continuous_update=False,\n",
    "    orientation='horizontal',\n",
    "    readout=True,\n",
    "    readout_format='d',\n",
    ")\n",
    "interact(filtr_maksimum,image_path=image_path, k=max_size_slider)"
   ]
  },
  {
   "cell_type": "code",
   "execution_count": 11,
   "id": "dbc84367-9692-4854-a918-a3aac0529e8a",
   "metadata": {},
   "outputs": [
    {
     "data": {
      "application/vnd.jupyter.widget-view+json": {
       "model_id": "97470ce1de904ac19f0d7303e4f86aed",
       "version_major": 2,
       "version_minor": 0
      },
      "text/plain": [
       "interactive(children=(Text(value='../data/cboard_salt_only.tif', description='image_path'), IntSlider(value=3,…"
      ]
     },
     "metadata": {},
     "output_type": "display_data"
    },
    {
     "data": {
      "text/plain": [
       "<function __main__.filtr_minimum(image_path, k=3)>"
      ]
     },
     "execution_count": 11,
     "metadata": {},
     "output_type": "execute_result"
    }
   ],
   "source": [
    "min_size_slider = widgets.IntSlider(\n",
    "    value=3,\n",
    "    min=3,\n",
    "    max=21,\n",
    "    step=2,\n",
    "    description='Wielkosc maski:',\n",
    "    disabled=False,\n",
    "    continuous_update=False,\n",
    "    orientation='horizontal',\n",
    "    readout=True,\n",
    "    readout_format='d',\n",
    ")\n",
    "interact(filtr_minimum,image_path=image_path, k=min_size_slider)"
   ]
  },
  {
   "cell_type": "markdown",
   "id": "dcd7b027-5f64-4f95-a17c-488eee626ad7",
   "metadata": {},
   "source": [
    "<b>Wnioski:</b><br>\n",
    "1.Dla obrazu cboard_pepper_salt: Jako, że oryginalny obraz jest zaszumiony szumem \"sól-pieprz\", wygładzenie go najlepiej działa przy użyciu filtra medianowego (Spośród podanych metod statystycznych użytych w filtrach, mediana jest najmniej czuła na wartości odstające) <br>\n",
    "2.Użycie większej maski, sprawia że obraz upadabnia się do siebie lokalnie - powoduje to rozmycie obrazu. <br>\n",
    "3.Dla obrazu cboard_pepper_only: zarówno filtr maksimum jak i filtr medianowy pozwalają na poprawienie obrazu - czerń  na obrazach jest reprezentowana przez niskie wartości, dlatego uwypuklenie wysokich wartości przy użyciu filtra maksimum pozwala na ucięcie zakłóceń typu \"pieprz\" <br>\n",
    "4.Alternatywnie użycie filtrs minimum dla obrazu cboard_salt_only pozwoli na wycięcie szumów typu \"sól\"."
   ]
  },
  {
   "cell_type": "code",
   "execution_count": null,
   "id": "a897b3fd-9c15-4bf3-a30c-3c2017312079",
   "metadata": {},
   "outputs": [],
   "source": []
  }
 ],
 "metadata": {
  "kernelspec": {
   "display_name": "Python 3 (ipykernel)",
   "language": "python",
   "name": "python3"
  },
  "language_info": {
   "codemirror_mode": {
    "name": "ipython",
    "version": 3
   },
   "file_extension": ".py",
   "mimetype": "text/x-python",
   "name": "python",
   "nbconvert_exporter": "python",
   "pygments_lexer": "ipython3",
   "version": "3.12.3"
  }
 },
 "nbformat": 4,
 "nbformat_minor": 5
}
