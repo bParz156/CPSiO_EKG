{
 "cells": [
  {
   "cell_type": "markdown",
   "id": "d4d42cd5-e04a-4932-8155-afc70993ba88",
   "metadata": {
    "editable": true,
    "slideshow": {
     "slide_type": ""
    },
    "tags": []
   },
   "source": []
  },
  {
   "cell_type": "markdown",
   "id": "1ccdc41e-5a96-4e43-8c70-f7fff7a1ebe7",
   "metadata": {},
   "source": [
    "#asia\n"
   ]
  },
  {
   "cell_type": "markdown",
   "id": "881f3008-cce1-4085-9c29-0ca65ede74ed",
   "metadata": {},
   "source": []
  },
  {
   "cell_type": "markdown",
   "id": "e04d09f4-691c-42fe-9c63-c9a8bae23813",
   "metadata": {
    "editable": true,
    "slideshow": {
     "slide_type": ""
    },
    "tags": []
   },
   "source": [
    "#python proba"
   ]
  },
  {
   "cell_type": "code",
   "execution_count": null,
   "id": "fdf51309-08ea-45ac-979d-4b13ea406d18",
   "metadata": {},
   "outputs": [],
   "source": []
  }
 ],
 "metadata": {
  "kernelspec": {
   "display_name": "Python 3 (ipykernel)",
   "language": "python",
   "name": "python3"
  },
  "language_info": {
   "codemirror_mode": {
    "name": "ipython",
    "version": 3
   },
   "file_extension": ".py",
   "mimetype": "text/x-python",
   "name": "python",
   "nbconvert_exporter": "python",
   "pygments_lexer": "ipython3",
   "version": "3.12.0"
  }
 },
 "nbformat": 4,
 "nbformat_minor": 5
}
