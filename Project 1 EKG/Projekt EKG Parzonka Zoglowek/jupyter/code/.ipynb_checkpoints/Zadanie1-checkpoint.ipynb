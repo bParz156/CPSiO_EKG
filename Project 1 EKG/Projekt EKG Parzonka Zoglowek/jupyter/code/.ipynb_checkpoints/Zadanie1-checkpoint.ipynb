{
 "cells": [
  {
   "cell_type": "markdown",
   "id": "01393d80-7ab3-48e9-92f3-9dca64ae9b88",
   "metadata": {},
   "source": [
    "<style></style>\n",
    "<h1>Cyfrowe przetwarzanie sygnałów i obrazów</h1>\n",
    "<h2>Przetwarzanie i analiza sygnału EKG</h2>\n",
    "<b>Autorki:</b> Barbara Parzonka 263955, Joanna Zoglowek 264452\n",
    "<br><br>\n",
    "<b>Ćwiczenie 1.</b>\n",
    "Napisz skrypt w Pythonie/Matlabie umożliwiający wczytywanie i wizualizację badanych sygnałów. Program powinien umożliwiać obserwowanie wycinka sygnału dla zadanego przedziału czasowego, skalowanie osi wykresów i ich opis oraz\n",
    "zapis dowolnego wycinka sygnału do pliku o podanej nazwie.\n",
    "<br><br>\n",
    "<b>Opis realicaji zadania</b> <br>\n",
    "Wywołanie programu poprez <i>Run>Run All Cells</i> wiąże się z wybraniem domyślnych ustawień dotyczących wczytywanego z pliku tekstowego sygnału (sygnał wczytany z pliku <i>ekg100.txt</i>, częstotliwość próbkowania 360 Hz). Jednym z ustawień dotyczących sygnału jest pole wyboru tego, czy pierwsza kolumna pliku tekstowego ma być traktowana jako czas poboru sygnału. \n",
    "<br>\n",
    "Program jest podzielony na trzy komórki - wywołanie pierwszej z nich tworzy i incjalizuje część zmiennych potrzebnych w programie oraz odpowiada za interfejs umożliwiający użytkownikowi ustawienie wspomianych wyżej właściwości sygnnału (nazwa pliku, częstotliwość, stwierdzenie, czy pierwsza kolumna to czas). <br>\n",
    "Wywołanie drugiej komórki powinno odbyć się po uprzednim wywołaniu pierwszej komórki. Ta część jest odpowiedzialna za odczytanie odpowiedniego pliku tesktowego.\n",
    "Zadaniem trzeciej części jest narysowanie wykresu i umozliwienie interakcji z wykresem - w tym zmianę wyświetlanego przedziału i zapis sygnału do pliku o zadanej nazwie."
   ]
  },
  {
   "cell_type": "code",
   "execution_count": 1,
   "id": "4a74889f-f72d-4b51-9d3a-209420e418d2",
   "metadata": {},
   "outputs": [],
   "source": [
    "%run methods.ipynb\n",
    "from collections.abc import Mapping\n",
    "from ipywidgets import interact, interactive, fixed, interact_manual, Layout\n",
    "import ipywidgets as widgets\n",
    "from IPython.display import display\n",
    "import matplotlib.pyplot as plt\n",
    "import asyncio\n",
    "import sys\n",
    "xarray=[]\n",
    "valuesArray=[]\n",
    "numberofCases=1\n",
    "datapath='../data/'\n",
    "bottomLimit=0\n",
    "upperLimit=len(xarray)\n",
    "frequency=360\n",
    "filename=datapath+\"ekg100.txt\"\n",
    "hasFirstTime=False\n",
    "changed=False\n",
    "\n",
    "\n",
    "fileOption=widgets.Dropdown(\n",
    "    options=['ekg100.txt', 'ekg1.txt', 'ekg_noise.txt'],\n",
    "    description='Wybierz plik z danymi: \\n',\n",
    "    disabled=False\n",
    ")\n",
    "\n",
    "freq=widgets.IntText(\n",
    "    value=360,\n",
    "    min=1,\n",
    "    description='Częstotliwość próbkowania (Hz):',\n",
    "    disabled=False,\n",
    ")\n",
    "freq.style.description_width = 'auto'\n",
    "\n",
    "timeFirst=widgets.Checkbox(\n",
    "    value=False,\n",
    "    description='W pierwszej kolumnie znajduje sie czas',\n",
    "    disabled=False\n",
    ")\n",
    "timeFirst.style.description_width = 'auto'\n",
    "\n",
    "out = widgets.Output(layout={'border': '1px solid black'})\n",
    "\n",
    "domain_slider=widgets.FloatRangeSlider(\n",
    "    value=[0,len(xarray)* 1 / frequency],\n",
    "    min=0, \n",
    "    max=len(xarray)* 1 / frequency, \n",
    "    step=0.1,\n",
    "    desciption='Przedzial czasowy',\n",
    "    continuous_update=False,\n",
    "    layout=Layout(width='80%')\n",
    ")\n",
    "\n",
    "\n",
    "file_name_input = widgets.Text(\n",
    "    placeholder='Podaj nazwę pliku',\n",
    "    description='Nazwa pliku, do którego ma zostać zapisana wartość:',\n",
    "    disabled=False\n",
    ")\n",
    "\n",
    "\n",
    "def on_save_button_clicked(b):\n",
    "    file_name = file_name_input.value.strip()\n",
    "    if file_name:\n",
    "        file_path =datapath+file_name + \".txt\"  # Assuming you want to save as text file\n",
    "        save_values_to_file(file_path)\n",
    "    else:\n",
    "        with out:\n",
    "            print('Nazwa pliku jest nieodpowiednia')\n",
    "    plt.xlim(1,3)\n",
    "\n",
    "save_button = widgets.Button(\n",
    "    description='Zapisz do pliku'\n",
    ")\n",
    "save_button.on_click(on_save_button_clicked)\n",
    "\n",
    "def change_values(frequency_r, filename_r, hasFirstTime_r):\n",
    "    global frequency, filename, hasFirstTime\n",
    "    frequency=int(frequency_r)\n",
    "    filename=datapath+filename_r\n",
    "    hasFirstTime=hasFirstTime_r\n",
    "    domain_slider.max=len(xarray)* 1 / frequency\n",
    "    domain_slider.value=[0, frequency]\n",
    "    zadanie1(frequency=frequency, filepath=filename, hasFirstTime=hasFirstTime)\n",
    "\n",
    "\n",
    "\n",
    "def plotEKG(domain):\n",
    "    global bottomLimit, upperLimit, numberOfCases\n",
    "    if domain[1]>0:\n",
    "        bottomLimit=int(domain[0]*frequency)\n",
    "        upperLimit=int(domain[1]*frequency)\n",
    "    else:\n",
    "        bottomLimit=0\n",
    "        upperLimit=len(xarray)\n",
    "    plt.figure(figsize=(15, 3 * numberOfCases))  # Ustawienie większego rozmiaru figury\n",
    "    plt.subplots_adjust(hspace=1.0)  # Większe odstępy między wykresami\n",
    "    \n",
    "    for i in range(numberOfCases):\n",
    "        plt.subplot(numberOfCases, 1, i+1)\n",
    "        plt.plot(xarray[bottomLimit:upperLimit], valuesArray[i][bottomLimit:upperLimit], label=f'Sygnał {i+1}')\n",
    "        plt.xlabel('Czas [s]')\n",
    "        if i== int(numberOfCases/2):\n",
    "            plt.ylabel('Amplituda [mV]')\n",
    "        plt.legend(loc='upper right')\n",
    "        plt.grid(True)\n",
    "    plt.tight_layout()  # Automatyczna regulacja odstępów\n",
    "    plt.show()\n",
    "\n",
    "\n",
    "def zadanie1(frequency=frequency, filepath=filename, hasFirstTime=hasFirstTime):\n",
    "    global numberOfCases\n",
    "    #change_values(frequency, filename, hasFirstTime)\n",
    "    if frequency<=0:\n",
    "        with out:\n",
    "            print('Podano nieodpowiednia czestotliwosc')\n",
    "    else:\n",
    "        (red, cases)=readFile(filepath, frequency, hasFirstTime)\n",
    "        if red:\n",
    "            numberOfCases= cases\n",
    "            return True\n",
    "        else:\n",
    "            exit()\n",
    "    \n",
    "def save_values_to_file(file_path):\n",
    "    global bottomLimit,upperLimit, numberOfCases\n",
    "    try:\n",
    "        with open(file_path, \"w\") as file:\n",
    "            for i in range (bottomLimit,upperLimit):\n",
    "                pom=''\n",
    "                for j in range(numberOfCases):\n",
    "                    pom+=str(float(valuesArray[j][i]))+\" \"\n",
    "                    file.write(pom+\"\\n\")\n",
    "        with out:\n",
    "            print(\"Zapisano w pliku o ścieżce:\", file_path)\n",
    "    except Exception as e:\n",
    "        with out:\n",
    "            print(\"Podczas zapisu doszlo do wyjatku: \", e)\n",
    "\n",
    "    \n"
   ]
  },
  {
   "cell_type": "code",
   "execution_count": 2,
   "id": "9aaf182d-268b-462c-9130-bb62b6707172",
   "metadata": {},
   "outputs": [
    {
     "data": {
      "application/vnd.jupyter.widget-view+json": {
       "model_id": "0c75b8d7c07f459bbe16bc1cf15709f3",
       "version_major": 2,
       "version_minor": 0
      },
      "text/plain": [
       "interactive(children=(IntText(value=360, description='Częstotliwość próbkowania (Hz):', style=DescriptionStyle…"
      ]
     },
     "metadata": {},
     "output_type": "display_data"
    },
    {
     "data": {
      "application/vnd.jupyter.widget-view+json": {
       "model_id": "71b1677755a14fdba8bdfeb6354fdf0e",
       "version_major": 2,
       "version_minor": 0
      },
      "text/plain": [
       "interactive(children=(FloatRangeSlider(value=(0.0, 0.0), continuous_update=False, description='domain', layout…"
      ]
     },
     "metadata": {},
     "output_type": "display_data"
    },
    {
     "data": {
      "application/vnd.jupyter.widget-view+json": {
       "model_id": "202a1d8ebcf34cfda9ffba74c775e636",
       "version_major": 2,
       "version_minor": 0
      },
      "text/plain": [
       "Text(value='', description='Nazwa pliku, do którego ma zostać zapisana wartość:', placeholder='Podaj nazwę pli…"
      ]
     },
     "metadata": {},
     "output_type": "display_data"
    },
    {
     "data": {
      "application/vnd.jupyter.widget-view+json": {
       "model_id": "b1a462fa603d4d4bb968dc6aab3dec14",
       "version_major": 2,
       "version_minor": 0
      },
      "text/plain": [
       "Button(description='Zapisz do pliku', style=ButtonStyle())"
      ]
     },
     "metadata": {},
     "output_type": "display_data"
    },
    {
     "data": {
      "application/vnd.jupyter.widget-view+json": {
       "model_id": "e319481d14624cc2af74a1fc7c6dfac7",
       "version_major": 2,
       "version_minor": 0
      },
      "text/plain": [
       "Output(layout=Layout(border_bottom='1px solid black', border_left='1px solid black', border_right='1px solid b…"
      ]
     },
     "metadata": {},
     "output_type": "display_data"
    }
   ],
   "source": [
    "interact(change_values, frequency_r=freq, filename_r=['ekg100.txt', 'ekg1.txt', 'ekg_noise.txt'], hasFirstTime_r=timeFirst)\n",
    "interact(plotEKG,domain=domain_slider)\n",
    "display(file_name_input)\n",
    "display(save_button)\n",
    "display(out)"
   ]
  },
  {
   "cell_type": "code",
   "execution_count": null,
   "id": "77f36229-1882-442b-ab97-faea939c4de1",
   "metadata": {},
   "outputs": [],
   "source": []
  }
 ],
 "metadata": {
  "kernelspec": {
   "display_name": "Python 3 (ipykernel)",
   "language": "python",
   "name": "python3"
  },
  "language_info": {
   "codemirror_mode": {
    "name": "ipython",
    "version": 3
   },
   "file_extension": ".py",
   "mimetype": "text/x-python",
   "name": "python",
   "nbconvert_exporter": "python",
   "pygments_lexer": "ipython3",
   "version": "3.12.3"
  }
 },
 "nbformat": 4,
 "nbformat_minor": 5
}
