{
 "cells": [
  {
   "cell_type": "markdown",
   "id": "b83f4bc5-5539-4f81-9ec7-4591d515ec44",
   "metadata": {},
   "source": [
    "<h1>Cyfrowe przetwarzanie sygnałów i obrazów</h1>\n",
    "<h2>Przetwarzanie i analiza sygnału EKG</h2>\n",
    "<b>Autorki:</b> Barbara Parzonka 263955, Joanna Zoglowek 264452\n",
    "<br><br>\n",
    "<b>Ćwiczenie 2.</b> \n",
    "Celem ćwiczenia jest praktyczne wypróbowanie funkcji numpy.fft\n",
    "i numpy.ifft do wyznaczania prostej i odwrotnej transformaty Fouriera [1, 3].\n",
    "<br>1. Wygeneruj ciąg próbek odpowiadający fali sinusoidalnej o częstotliwości 50 Hz\n",
    "i długości 65536.\n",
    "<br>2. Wyznacz dyskretną transformatę Fouriera tego sygnału i przedstaw jego widmo\n",
    "amplitudowe na wykresie w zakresie częstotliwości [0, fs/2], gdzie fs oznacza\n",
    "częstotliwość próbkowania.\n",
    "<br>3. Wygeneruj ciąg próbek mieszaniny dwóch fal sinusoidalnych (tzn. ich kombinacji\n",
    "liniowej) o częstotliwościach 50 i 60 Hz. Wykonaj zadanie z punktu 2 dla tego\n",
    "sygnału.\n",
    "<br>4. Powtórz eksperymenty dla różnych czasów trwania sygnałów, tzn. dla różnych\n",
    "częstotliwości próbkowania.\n",
    "<br>5. Wyznacz odwrotne transformaty Fouriera ciągów wyznaczonych w zadaniu 2\n",
    "i porównaj z ciągami oryginalnymi.\n",
    "<br><br>\n",
    "<b>Opis realizacji zadania</b> <br>\n",
    "Realizacji zadania służy interfesj z użytkownikiem umożliwiający wybór badanego sygnału i częstotliwości próbkownia sygnału. \n"
   ]
  },
  {
   "cell_type": "code",
   "execution_count": null,
   "id": "500d7251-5bc2-4205-8e36-8724e5a277bb",
   "metadata": {},
   "outputs": [],
   "source": [
    "import numpy as np\n",
    "import matplotlib.pyplot as plt\n",
    "import ipywidgets as widgets\n",
    "%run methods.ipynb\n",
    "\n",
    "\"\"\"\n",
    "x to wektor probek, \n",
    "fs to czestotliwosc probkowania\n",
    "\"\"\"\n",
    "\n",
    "n=65536\n",
    "freq5=50\n",
    "freq6=60\n",
    "x5=[]\n",
    "x6=[]\n",
    "x56=[]\n",
    "time=[]\n",
    "\n",
    "def countSignals(sampling):\n",
    "    global x5, x6, x56, time\n",
    "    T=1/sampling\n",
    "    time = np.linspace(0, (n-1)*T, n)\n",
    "    x5= np.sin(2 * np.pi * freq5 * time)\n",
    "    x6=np.sin(2 * np.pi * freq6 * time)\n",
    "    x56=x5+x6\n",
    "\n",
    "\n",
    "f1=widgets.Checkbox(\n",
    "    value=False,\n",
    "    description='Uzyj sinusa o czestotliwosci 50 Hz',\n",
    "    disabled=False\n",
    ")\n",
    "f1.style.description_width = 'auto'\n",
    "\n",
    "f2=widgets.Checkbox(\n",
    "    value=False,\n",
    "    description='Uzyj sinusa o czestotliwosci 60 Hz',\n",
    "    disabled=False\n",
    ")\n",
    "f2.style.description_width = 'auto'\n",
    "\n",
    "\n",
    "samplingFreq=widgets.IntSlider(\n",
    "    value=130,\n",
    "    min=25, \n",
    "    max=200, \n",
    "    step=1,\n",
    "    desciption='Czestotliwosc probkowania',\n",
    "    continuous_update=False,\n",
    ")\n",
    "display(f1)\n",
    "display(f2)\n",
    "display(samplingFreq)"
   ]
  },
  {
   "cell_type": "code",
   "execution_count": null,
   "id": "e6bc3886-a62c-4ef0-8d9a-f8ef5929b809",
   "metadata": {},
   "outputs": [],
   "source": [
    "count5=f1.value\n",
    "count6=f2.value\n",
    "fs=int(samplingFreq.value)\n",
    "countSignals(fs)\n",
    "k=100\n",
    "if count5 and not count6:\n",
    "    fourierIOdwrotny(x5,time, fs, 'sinus o czestotliwosci 50 Hz',k)\n",
    "elif not count5 and count6:\n",
    "    fourierIOdwrotny(x6,time, fs, 'sinus o czestotliwosci 60 Hz',k)\n",
    "elif count5 and count6:\n",
    "    fourierIOdwrotny(x56,time, fs, 'sinus mieszany (50 i 60 Hz)',k)\n",
    "else:\n",
    "    print('Wybierz sygnal')\n"
   ]
  },
  {
   "cell_type": "markdown",
   "id": "0a460fdd-543c-47db-b013-b8a219efafe8",
   "metadata": {},
   "source": [
    "<b>Wnioski</b> <br>\n",
    "Zgodnie z twierdzenie Nyquista (Shannona-Kotielnikowa), aby uniknąć zjawiska aliasingu (nakładania się na siebie składowych widma o różnych częstotliwościach, tzw. przecieku widma) częstotliwość próbkowania powinna być co najjmniej dwukrotnie większa niż najwyższa częstotliwość sygnału.Dlatego też w tym wypadku bezpiecznie założyć jako częstotliwość próbkowania wartość 130 Hz."
   ]
  },
  {
   "cell_type": "code",
   "execution_count": null,
   "id": "c722278b-cb93-4bf8-94ab-b9fb4f16ab7c",
   "metadata": {},
   "outputs": [],
   "source": []
  }
 ],
 "metadata": {
  "kernelspec": {
   "display_name": "Python 3 (ipykernel)",
   "language": "python",
   "name": "python3"
  },
  "language_info": {
   "codemirror_mode": {
    "name": "ipython",
    "version": 3
   },
   "file_extension": ".py",
   "mimetype": "text/x-python",
   "name": "python",
   "nbconvert_exporter": "python",
   "pygments_lexer": "ipython3",
   "version": "3.12.0"
  }
 },
 "nbformat": 4,
 "nbformat_minor": 5
}
