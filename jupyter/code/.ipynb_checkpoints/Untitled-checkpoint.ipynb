{
 "cells": [
  {
   "cell_type": "code",
   "execution_count": 1,
   "id": "429c42af-0024-44ee-ad6a-80f0cd36f8c6",
   "metadata": {},
   "outputs": [
    {
     "data": {
      "application/vnd.jupyter.widget-view+json": {
       "model_id": "d11e21d47bc14ce5bef13e36440bf129",
       "version_major": 2,
       "version_minor": 0
      },
      "text/plain": [
       "FloatRangeSlider(value=(0.0, 2.5), continuous_update=False, description='Przedzial czasu:', max=2.5, readout_f…"
      ]
     },
     "metadata": {},
     "output_type": "display_data"
    },
    {
     "data": {
      "application/vnd.jupyter.widget-view+json": {
       "model_id": "69e7ba2caa2e46ffb57d524f8d2be39e",
       "version_major": 2,
       "version_minor": 0
      },
      "text/plain": [
       "Output()"
      ]
     },
     "metadata": {},
     "output_type": "display_data"
    },
    {
     "name": "stdout",
     "output_type": "stream",
     "text": [
      "1 5\n"
     ]
    }
   ],
   "source": [
    "%gui asyncio\n",
    "import asyncio\n",
    "import ipywidgets as widgets\n",
    "from IPython.display import display\n",
    "import matplotlib.pyplot as plt\n",
    "\n",
    "out = widgets.Output()\n",
    "\n",
    "xarray=[1,2,3,4,5]\n",
    "valuesArray=[5,4,3,2,1]\n",
    "frequency=2\n",
    "\n",
    "timeShowing=widgets.FloatRangeSlider(\n",
    "    value=[0, len(xarray)* 1 / frequency],\n",
    "    min=0,\n",
    "    max=len(xarray)* 1 / frequency,\n",
    "    step=0.01,\n",
    "    description='Przedzial czasu:',\n",
    "    disabled=False,\n",
    "    continuous_update=False,\n",
    "    orientation='horizontal',\n",
    "    readout=True,\n",
    "    readout_format='.1f',\n",
    ")\n",
    "\n",
    "def wait_for_change(widget, value):\n",
    "    future = asyncio.Future()\n",
    "    def getvalue(change):\n",
    "        future.set_result(change.new)\n",
    "        widget.unobserve(getvalue, value)\n",
    "    widget.observe(getvalue, value)\n",
    "    return future\n",
    "\n",
    "def plotEKG(bottomLimmit=0, upperLimit=None):\n",
    "    if upperLimit is None:\n",
    "        upperLimit = len(xarray)\n",
    "    print(bottomLimit, upperLimit)\n",
    "    plt.figure(figsize=(15, 2 * numberOfCases))  # Ustawienie większego rozmiaru figury\n",
    "    plt.plot(xarray[bottomLimmit:upperLimit], valuesArray[bottomLimmit:upperLimit], label=f'Sygnał EKG')\n",
    "    plt.xlabel('Czas [s]')\n",
    "    plt.ylabel('Amplituda [mV]')\n",
    "    plt.legend(loc='upper right')\n",
    "    plt.grid(True)\n",
    "    plt.tight_layout()  # Automatyczna regulacja odstępów\n",
    "    print('przed show')\n",
    "    plt.show()\n",
    "    print('po show')\n",
    "    return True\n",
    "\n",
    "async def f():\n",
    "    while(True):\n",
    "        x = await wait_for_change(timeShowing, 'value')\n",
    "        out.append_stdout('async function continued with value ' + str(x) + '\\n')\n",
    "        bottomLimit=int(x[0]*frequency)\n",
    "        upperLimit=int(x[1]*frequency)\n",
    "        print(bottomLimit, upperLimit)\n",
    "        plotEKG(bottomLimit, upperLimit)\n",
    "        print('po funkcji')\n",
    "asyncio.ensure_future(f())\n",
    "\n",
    "display(timeShowing)\n",
    "display(out)"
   ]
  },
  {
   "cell_type": "code",
   "execution_count": 2,
   "id": "37bd5189-a0b4-465a-bc7d-3e9f7372d378",
   "metadata": {},
   "outputs": [
    {
     "data": {
      "application/vnd.jupyter.widget-view+json": {
       "model_id": "ad6973d79d2c479ea622b26587afe457",
       "version_major": 2,
       "version_minor": 0
      },
      "text/plain": [
       "interactive(children=(FloatRangeSlider(value=(0.0, 2.5), continuous_update=False, description='domain', max=2.…"
      ]
     },
     "metadata": {},
     "output_type": "display_data"
    }
   ],
   "source": [
    "import numpy as np\n",
    "import matplotlib.pyplot as plt\n",
    "from ipywidgets import interact, interactive, fixed, interact_manual\n",
    "import ipywidgets as widgets\n",
    "\n",
    "xarray=[1,2,3,4,5]\n",
    "valuesArray=[5,4,3,2,1]\n",
    "frequency=2\n",
    "\n",
    "# Define a function to plot\n",
    "def plot_function(domain):\n",
    "    plt.figure(figsize=(8, 6))\n",
    "    bottomLimit=int(domain[0]*frequency)\n",
    "    upperLimit=int(domain[1]*frequency)\n",
    "    plt.plot(xarray[bottomLimit:upperLimit], valuesArray[bottomLimit:upperLimit])\n",
    "    print(domain)\n",
    "    plt.xlabel('x')\n",
    "    plt.ylabel('y')\n",
    "    plt.grid(True)\n",
    "    plt.show()\n",
    "\n",
    "\n",
    "# Create interactive plot\n",
    "interact(plot_function,domain=widgets.FloatRangeSlider(value=[0,len(xarray)* 1 / frequency],min=0, max=len(xarray)* 1 / frequency, step=0.01, continuous_update=False));\n"
   ]
  },
  {
   "cell_type": "code",
   "execution_count": 2,
   "id": "882f9b25-7ac4-45c5-98f3-6203fbce81bb",
   "metadata": {},
   "outputs": [],
   "source": [
    "sample_list = ['Hello', 'Saturn!', 'This', 'is', 'an', 'example.']\n",
    "\n",
    "for item in sample_list:\n",
    "    print(item)\n",
    "# Save the captured output to a text file\n",
    "with open('output.txt', 'w') as file:\n",
    "    file.write('pliczek pentliczke')"
   ]
  },
  {
   "cell_type": "code",
   "execution_count": null,
   "id": "2578dcab-32f3-4d40-a448-d06f2a6a8cdb",
   "metadata": {},
   "outputs": [],
   "source": []
  }
 ],
 "metadata": {
  "kernelspec": {
   "display_name": "Python 3 (ipykernel)",
   "language": "python",
   "name": "python3"
  },
  "language_info": {
   "codemirror_mode": {
    "name": "ipython",
    "version": 3
   },
   "file_extension": ".py",
   "mimetype": "text/x-python",
   "name": "python",
   "nbconvert_exporter": "python",
   "pygments_lexer": "ipython3",
   "version": "3.12.1"
  }
 },
 "nbformat": 4,
 "nbformat_minor": 5
}
