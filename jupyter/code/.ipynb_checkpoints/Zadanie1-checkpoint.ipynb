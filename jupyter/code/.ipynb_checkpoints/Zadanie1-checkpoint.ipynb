{
 "cells": [
  {
   "cell_type": "code",
   "execution_count": 1,
   "id": "4a74889f-f72d-4b51-9d3a-209420e418d2",
   "metadata": {},
   "outputs": [],
   "source": [
    "from ipywidgets import interact, interactive, fixed, interact_manual, Layout\n",
    "import ipywidgets as widgets\n",
    "from IPython.display import display\n",
    "import matplotlib.pyplot as plt\n",
    "import asyncio\n",
    "xarray=[]\n",
    "valuesArray=[]\n",
    "numberofCases=1\n",
    "datapath='../data/'\n",
    "bottomLimit=0\n",
    "upperLimit=len(xarray)"
   ]
  },
  {
   "cell_type": "code",
   "execution_count": 2,
   "id": "f3aea7f6-1fbc-43fc-aa07-ed644e7f063a",
   "metadata": {},
   "outputs": [
    {
     "data": {
      "application/vnd.jupyter.widget-view+json": {
       "model_id": "c0c14ba83d524ebd8ad8aef2a6bd388e",
       "version_major": 2,
       "version_minor": 0
      },
      "text/plain": [
       "RadioButtons(description='Wybierz plik z danymi: \\n', options=('ekg100.txt', 'ekg1.txt', 'ekg_noise.txt'), val…"
      ]
     },
     "metadata": {},
     "output_type": "display_data"
    }
   ],
   "source": [
    "\n",
    "fileOption=widgets.RadioButtons(\n",
    "    options=['ekg100.txt', 'ekg1.txt', 'ekg_noise.txt'],\n",
    "    description='Wybierz plik z danymi: \\n',\n",
    "    disabled=False\n",
    ")\n",
    "display(fileOption)"
   ]
  },
  {
   "cell_type": "code",
   "execution_count": 3,
   "id": "747b2b66-5b21-4b31-8d19-9aa0c591001e",
   "metadata": {},
   "outputs": [
    {
     "name": "stdout",
     "output_type": "stream",
     "text": [
      "../data/ekg100.txt\n"
     ]
    }
   ],
   "source": [
    "filepath=datapath+fileOption.value\n",
    "print(str(filepath))"
   ]
  },
  {
   "cell_type": "code",
   "execution_count": 4,
   "id": "59306506-2f6e-4303-9ed7-9086835905f2",
   "metadata": {},
   "outputs": [
    {
     "data": {
      "application/vnd.jupyter.widget-view+json": {
       "model_id": "368cbfa6176c470e82397d3319540cb9",
       "version_major": 2,
       "version_minor": 0
      },
      "text/plain": [
       "IntText(value=360, description='Częstotliwość próbkowania:')"
      ]
     },
     "metadata": {},
     "output_type": "display_data"
    }
   ],
   "source": [
    "freq=widgets.IntText(\n",
    "    value=360,\n",
    "    min=1,\n",
    "    description='Częstotliwość próbkowania:',\n",
    "    disabled=False\n",
    ")\n",
    "display(freq)"
   ]
  },
  {
   "cell_type": "code",
   "execution_count": 5,
   "id": "89eba6e9-4dcf-4406-a5a3-b5e388678ca4",
   "metadata": {},
   "outputs": [
    {
     "name": "stdout",
     "output_type": "stream",
     "text": [
      "360\n"
     ]
    }
   ],
   "source": [
    "frequency=int(freq.value)\n",
    "print(str(frequency))"
   ]
  },
  {
   "cell_type": "code",
   "execution_count": 6,
   "id": "4f4e0c14-2ef4-4d7b-9762-8bda3032d002",
   "metadata": {},
   "outputs": [
    {
     "data": {
      "application/vnd.jupyter.widget-view+json": {
       "model_id": "ddb88526d39445eda647f1f48296681c",
       "version_major": 2,
       "version_minor": 0
      },
      "text/plain": [
       "Checkbox(value=False, description='W pierwszej kolumnie znajduje sie czas', indent=False)"
      ]
     },
     "metadata": {},
     "output_type": "display_data"
    }
   ],
   "source": [
    "timeFirst=widgets.Checkbox(\n",
    "    value=False,\n",
    "    description='W pierwszej kolumnie znajduje sie czas',\n",
    "    disabled=False,\n",
    "    indent=False\n",
    ")\n",
    "display(timeFirst)"
   ]
  },
  {
   "cell_type": "code",
   "execution_count": 7,
   "id": "a5877fab-bada-4fd5-903c-ac8cde27cc24",
   "metadata": {},
   "outputs": [],
   "source": [
    "hasFirstTime=timeFirst.value"
   ]
  },
  {
   "cell_type": "code",
   "execution_count": 13,
   "id": "b1b3ec2c-b666-47a6-b98c-77358688e662",
   "metadata": {
    "scrolled": true
   },
   "outputs": [
    {
     "data": {
      "application/vnd.jupyter.widget-view+json": {
       "model_id": "96536d3476ef44d49a66ca28a6cc78c4",
       "version_major": 2,
       "version_minor": 0
      },
      "text/plain": [
       "interactive(children=(FloatRangeSlider(value=(0.0, 685.3444444444444), continuous_update=False, description='d…"
      ]
     },
     "metadata": {},
     "output_type": "display_data"
    },
    {
     "name": "stdout",
     "output_type": "stream",
     "text": [
      "Values saved to file: pliczek.txt\n"
     ]
    }
   ],
   "source": [
    "def readFile(filename=filepath, frequency=frequency, hasFirstTime=hasFirstTime):\n",
    "    timePeriod = 1 / frequency\n",
    "    global xarray, valuesArray, numberOfCases\n",
    "    xarray.clear()\n",
    "    valuesArray.clear()\n",
    "\n",
    "    try:\n",
    "        with open(filename, 'r') as file:\n",
    "            for line in file:\n",
    "                columns = line.split()\n",
    "                if hasFirstTime and len(columns) > 1:\n",
    "                    xarray.append(float(columns[0]))\n",
    "                    columns = columns[1:]  # Usun istniejaca kolumne\n",
    "                else:\n",
    "                    xarray.append(len(xarray) * timePeriod)\n",
    "                \n",
    "                for i, value in enumerate(columns):\n",
    "                    if len(valuesArray) <= i:\n",
    "                        valuesArray.append([])  #Stworz nowa liste\n",
    "                    valuesArray[i].append(float(value))\n",
    "                    \n",
    "        numberOfCases = len(valuesArray)\n",
    "        return True\n",
    "    except Exception as e:\n",
    "        print(\"Błąd odczytu pliku\", str(e))\n",
    "        return False\n",
    "\n",
    "def plotEKG(domain):\n",
    "    bottomLimit=int(domain[0]*frequency)\n",
    "    upperLimit=int(domain[1]*frequency)\n",
    "    plt.figure(figsize=(15, 2 * numberOfCases))  # Ustawienie większego rozmiaru figury\n",
    "    plt.subplots_adjust(hspace=1.0)  # Większe odstępy między wykresami\n",
    "    \n",
    "    for i in range(numberOfCases):\n",
    "        plt.subplot(numberOfCases, 1, i+1)\n",
    "        plt.plot(xarray[bottomLimit:upperLimit], valuesArray[i][bottomLimit:upperLimit], label=f'Sygnał {i+1}')\n",
    "        plt.xlabel('Czas [s]')\n",
    "        if i== int(numberOfCases/2):\n",
    "            plt.ylabel('Amplituda [mV]')\n",
    "        plt.legend(loc='upper right')\n",
    "        plt.grid(True)\n",
    "    \n",
    "    plt.tight_layout()  # Automatyczna regulacja odstępów\n",
    "    plt.show()\n",
    "\n",
    "\n",
    "def zadanie1(frequency=frequency, filename=filepath):\n",
    "    if frequency<=0:\n",
    "        print('Podano nieodpowiednia czestotliwosc')\n",
    "    else:\n",
    "        if readFile():\n",
    "            return True\n",
    "        else:\n",
    "            exit()\n",
    "    \n",
    "domain_slider=widgets.FloatRangeSlider(\n",
    "    value=[0,len(xarray)* 1 / frequency],\n",
    "    min=0, \n",
    "    max=len(xarray)* 1 / frequency, \n",
    "    step=0.1,\n",
    "    desciption='Przedzial czasowy',\n",
    "    continuous_update=False,\n",
    "    layout=Layout(width='80%')\n",
    ")\n",
    "\n",
    "\n",
    "def save_values_to_file(file_path):\n",
    "    global bottomLimit,upperLimit\n",
    "    try:\n",
    "        with open(file_path, \"w\") as file:\n",
    "                for i in range (bottomLimit,upperLimit):\n",
    "                    pom=''\n",
    "                    for j in range(numberOfCases):\n",
    "                        pom+=str(int(valuesArray[j][i]))+\" \"\n",
    "                    file.write(pom+\"\\n\")\n",
    "        print(\"Values saved to file:\", file_path)\n",
    "    except Exception as e:\n",
    "        print(\"Error occurred while saving values to file:\", e)\n",
    "\n",
    "if zadanie1():\n",
    "    interact(plotEKG,domain=domain_slider)\n",
    "    save_values_to_file('pliczek.txt')\n",
    "    \n"
   ]
  },
  {
   "cell_type": "code",
   "execution_count": null,
   "id": "f0e3a40c-906d-4597-8b4d-e314fd45f13f",
   "metadata": {},
   "outputs": [],
   "source": []
  },
  {
   "cell_type": "code",
   "execution_count": 10,
   "id": "4575ce26-dc39-450c-acae-e929db394e75",
   "metadata": {},
   "outputs": [
    {
     "data": {
      "application/vnd.jupyter.widget-view+json": {
       "model_id": "3a5de582a91e4b8ea3f2ab5b2599fd60",
       "version_major": 2,
       "version_minor": 0
      },
      "text/plain": [
       "Text(value='', description='File name:', placeholder='Enter file name...')"
      ]
     },
     "metadata": {},
     "output_type": "display_data"
    },
    {
     "data": {
      "application/vnd.jupyter.widget-view+json": {
       "model_id": "5081a7f58a2840f7a86ff7e0b580c996",
       "version_major": 2,
       "version_minor": 0
      },
      "text/plain": [
       "Button(description='Save to File', style=ButtonStyle())"
      ]
     },
     "metadata": {},
     "output_type": "display_data"
    },
    {
     "data": {
      "application/vnd.jupyter.widget-view+json": {
       "model_id": "392c6ec73d8f4317ad77573bd310dd8f",
       "version_major": 2,
       "version_minor": 0
      },
      "text/plain": [
       "Output()"
      ]
     },
     "metadata": {},
     "output_type": "display_data"
    }
   ],
   "source": [
    "# Function to save valuesArray to file\n",
    "def save_values_to_file(file_path):\n",
    "    try:\n",
    "        with open(file_path, \"w\") as file:\n",
    "                for i in range (bottomLimmit,upperLimit):\n",
    "                    pom=''\n",
    "                    for j in range(numberOfCases):\n",
    "                        pom+=str(int(valuesArray[j][i]))+\" \"\n",
    "                    file.write(pom+\"\\n\")\n",
    "        print(\"Values saved to file:\", file_path)\n",
    "    except Exception as e:\n",
    "        print(\"Error occurred while saving values to file:\", e)\n",
    "\n",
    "# Widgets\n",
    "file_name_input = widgets.Text(\n",
    "    placeholder='Enter file name...',\n",
    "    description='File name:',\n",
    "    disabled=False\n",
    ")\n",
    "\n",
    "save_button = widgets.Button(\n",
    "    description='Save to File'\n",
    ")\n",
    "\n",
    "output_message = widgets.Output()\n",
    "\n",
    "# Function to handle button click event\n",
    "def on_save_button_clicked(b):\n",
    "    file_name = file_name_input.value.strip()\n",
    "    if file_name:\n",
    "        file_path = file_name + \".txt\"  # Assuming you want to save as text file\n",
    "        save_values_to_file(file_path)\n",
    "    else:\n",
    "        with output_message:\n",
    "            print(\"Please enter a valid file name.\")\n",
    "\n",
    "# Attach event handler to button\n",
    "save_button.on_click(on_save_button_clicked)\n",
    "\n",
    "# Display widgets\n",
    "display(file_name_input)\n",
    "display(save_button)\n",
    "display(output_message)\n"
   ]
  },
  {
   "cell_type": "code",
   "execution_count": 10,
   "id": "81245cdd-5d3c-4f29-9e84-64f9cbf31d09",
   "metadata": {},
   "outputs": [
    {
     "name": "stdout",
     "output_type": "stream",
     "text": [
      "Error occurred while saving values to file: name 'bottomLimmit' is not defined\n"
     ]
    }
   ],
   "source": []
  },
  {
   "cell_type": "code",
   "execution_count": null,
   "id": "e995757a-e910-469b-8ac8-17a5a1fe414c",
   "metadata": {},
   "outputs": [],
   "source": []
  }
 ],
 "metadata": {
  "kernelspec": {
   "display_name": "Python 3 (ipykernel)",
   "language": "python",
   "name": "python3"
  },
  "language_info": {
   "codemirror_mode": {
    "name": "ipython",
    "version": 3
   },
   "file_extension": ".py",
   "mimetype": "text/x-python",
   "name": "python",
   "nbconvert_exporter": "python",
   "pygments_lexer": "ipython3",
   "version": "3.12.1"
  }
 },
 "nbformat": 4,
 "nbformat_minor": 5
}
